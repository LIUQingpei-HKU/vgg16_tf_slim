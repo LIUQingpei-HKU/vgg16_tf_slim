{
 "cells": [
  {
   "cell_type": "code",
   "execution_count": 1,
   "metadata": {
    "collapsed": true
   },
   "outputs": [],
   "source": [
    "from __future__ import absolute_import\n",
    "from __future__ import division\n",
    "from __future__ import print_function"
   ]
  },
  {
   "cell_type": "code",
   "execution_count": 5,
   "metadata": {
    "collapsed": false
   },
   "outputs": [],
   "source": [
    "from tensorflow.contrib import layers\n",
    "from tensorflow.contrib.framework.python.ops import arg_scope\n",
    "from tensorflow.contrib.layers.python.layers import layers as layers_lib\n",
    "from tensorflow.contrib.layers.python.layers import regularizers\n",
    "from tensorflow.contrib.layers.python.layers import utils\n",
    "from tensorflow.python.ops import array_ops\n",
    "from tensorflow.python.ops import init_ops\n",
    "from tensorflow.python.ops import nn_ops\n",
    "from tensorflow.python.ops import variable_scope"
   ]
  },
  {
   "cell_type": "code",
   "execution_count": 6,
   "metadata": {
    "collapsed": true
   },
   "outputs": [],
   "source": [
    "def vgg_arg_scope(weight_decay=0.0005):\n",
    "    with arg_scope(\n",
    "        [layers.conv2d,layers_lib.fully_connected],\n",
    "        activation_fn=nn_ops.relu,\n",
    "        weights_regularizer=regularizers.l2_regularizer(weight_decay),\n",
    "        biases_initializer=init_ops.zeros_initializer()):\n",
    "        with arg_scope([layers.conv2d],padding=\"SAME\") as arg_sc:\n",
    "            return arg_sc"
   ]
  },
  {
   "cell_type": "code",
   "execution_count": 7,
   "metadata": {
    "collapsed": true
   },
   "outputs": [],
   "source": [
    "def vgg_16(inputs,num_classes=1000,is_training=True,dropout_keep_prob=0.5,spatial_squeeze=True,scope=\"vgg_16\"):\n",
    "    with variable_scope.variable_scope(scope,\"vgg_16\",[inputs]) as sc:\n",
    "        end_points_collection = sc.original_name_scope+\"_end_points\"\n",
    "        with arg_scope(\n",
    "            [layers.conv2d,layers_lib.fully_connected,layers_lib.max_pool2d],\n",
    "            outputs_collection=end_points_collection):\n",
    "            # 224*224*3\n",
    "            net = layers_lib.repeat(inputs,2,layers.conv2d,64,[3,3],scope=\"conv1\") #224*224*64\n",
    "            net = layers_lib.max_pool2d(net,[2,2],scope=\"pool1\") #112*112*64\n",
    "            \n",
    "            net = layers_lib.repeat(net,2,layers.conv2d,128,[3,3],scope=\"conv2\") #112*112*128\n",
    "            net = layers_lib.max_pool2d(net,[2,2],scope=\"pool2\")  #56*56*128\n",
    "            c\n",
    "            net = layers_lib.repeat(net,3,layers.conv2d,256,[3,3],scope=\"conv3\") #56*56*256\n",
    "            net = layers_lib.max_pool2d(net,[2,2],scope=\"pool3\") #28*28*256\n",
    "            \n",
    "            net = layers_lib.repeat(net,3,layers.conv2d,512,[3,3],scope=\"conv4\") #28*28*512\n",
    "            net = layers_lib.max_pool2d(net,[2,2],scope=\"pool4\") #14*14*512\n",
    "            \n",
    "            net = layers_lib.repeat(net,3,layers.conv2d,512,[3,3],scope=\"conv5\") #14*14*512\n",
    "            net = layers_lib.max_pool2d(net,[2,2],scope=\"pool5\") #7*7*512\n",
    "            \n",
    "            net = layers.conv2d(net,4096,[7,7],padding='VALID',scope=\"fc6\") #1*4096\n",
    "            net = layers_lib.dropout(\n",
    "                net,dropout_keep_prob, is_training=is_training,scope=\"dropout6\")\n",
    "            \n",
    "            net = layers_conv2d(net,4096,[1,1],scope=\"fc7\") #1*4096\n",
    "            net = layers_lib.dropout(\n",
    "                net,dropout_keep_prob,is_training=is_training,scope=\"dropout7\")\n",
    "            \n",
    "            net = layers.conv2d(\n",
    "                net,num_classes,[1,1],\n",
    "                activation_fn=None,\n",
    "                normalizer_fn=None,\n",
    "                scope=\"fc8\")  #1*num_classes\n",
    "            end_points = utils.convert_collection_to_dict(end_points_collection)\n",
    "            if spatial_squeeze:\n",
    "                net = array_opt.squeeze(net,[1,2],name=\"fc8/squeezed\")\n",
    "                end_points[sc.name+\"/fc8\"] = net\n",
    "            \n",
    "            return net,end_points\n",
    "vgg_16.default_image_size=224        "
   ]
  },
  {
   "cell_type": "code",
   "execution_count": null,
   "metadata": {
    "collapsed": true
   },
   "outputs": [],
   "source": []
  }
 ],
 "metadata": {
  "kernelspec": {
   "display_name": "Python 3",
   "language": "python",
   "name": "python3"
  },
  "language_info": {
   "codemirror_mode": {
    "name": "ipython",
    "version": 3
   },
   "file_extension": ".py",
   "mimetype": "text/x-python",
   "name": "python",
   "nbconvert_exporter": "python",
   "pygments_lexer": "ipython3",
   "version": "3.6.0"
  }
 },
 "nbformat": 4,
 "nbformat_minor": 2
}
